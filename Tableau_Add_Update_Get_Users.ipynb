{
 "cells": [
  {
   "cell_type": "markdown",
   "metadata": {},
   "source": [
    "# Tableau Credential Management"
   ]
  },
  {
   "cell_type": "markdown",
   "metadata": {},
   "source": [
    "#### This script can help manage credentials programatically. It includes 4 components: \n",
    "1. Add new users to multiple sites;\n",
    "2. Change existing users' password;\n",
    "3. Get user info from multiple sites;\n",
    "4. Remove users from multiple sites."
   ]
  },
  {
   "cell_type": "markdown",
   "metadata": {},
   "source": [
    "## ***Add New Users"
   ]
  },
  {
   "cell_type": "code",
   "execution_count": 115,
   "metadata": {
    "collapsed": false
   },
   "outputs": [],
   "source": [
    "from tableau_rest_api.tableau_rest_api import *\n",
    "import csv\n",
    "\n",
    "server = 'https://bi.tune.com'\n",
    "loginName = 'xiaojuan'\n",
    "loginPasswd = 'Has0ffers'\n",
    "user_info = []\n",
    "\n",
    "def read_csv_file(fileName):\n",
    "    with open(fileName, 'rU') as file:\n",
    "        read_file = csv.reader(file)\n",
    "        header = read_file.next()\n",
    "        for line in read_file:\n",
    "            user_info.append(line)\n",
    "    file.close()\n",
    "    return user_info\n",
    "\n",
    "def add_user(user_info):\n",
    "    for site, username, fullname, siterole, password, email in user_info:\n",
    "        t = TableauRestApi(server, loginName, loginPasswd, site)\n",
    "        t.signin()\n",
    "        #print 'Signin Succeed'\n",
    "        t.add_user_by_username(username, site_role = siterole, update_if_exists=True)\n",
    "        print '%s added to Site: %s'%(username, site)\n",
    "    t.signout()\n",
    "    print 'All Users Added'\n",
    "    for site, username, fullname, siterole, password, email in user_info:\n",
    "        t = TableauRestApi(server, loginName, loginPasswd, site)\n",
    "        t.signin()\n",
    "        users_in_server = t.query_users()\n",
    "        for user in users_in_server:\n",
    "            if user.get('name') == username:\n",
    "                t.update_user_by_username(user.get('name'), password = password, full_name = fullname, email = email)\n",
    "                print 'User: %s updated'%username\n",
    "    t.signout()\n",
    "    print 'All user updated'\n",
    "    print 'Mission completed'"
   ]
  },
  {
   "cell_type": "code",
   "execution_count": 116,
   "metadata": {
    "collapsed": false
   },
   "outputs": [
    {
     "name": "stdout",
     "output_type": "stream",
     "text": [
      "test1 added to Site: TuneBIDemo\n",
      "test2 added to Site: Uber\n",
      "test3 added to Site: BetaTest\n",
      "test4 added to Site: BetaTest2\n",
      "All Users Added\n",
      "User: test1 updated\n",
      "User: test2 updated\n",
      "User: test3 updated\n",
      "User: test4 updated\n",
      "All user updated\n",
      "Mission completed\n"
     ]
    }
   ],
   "source": [
    "fileName = 'add_user.csv'\n",
    "user_info = read_csv_file(fileName)\n",
    "add_user(user_info)"
   ]
  },
  {
   "cell_type": "markdown",
   "metadata": {},
   "source": [
    "## *Update User Password"
   ]
  },
  {
   "cell_type": "code",
   "execution_count": 120,
   "metadata": {
    "collapsed": false
   },
   "outputs": [],
   "source": [
    "from tableau_rest_api.tableau_rest_api import *\n",
    "import csv\n",
    "\n",
    "server = 'https://bi.tune.com'\n",
    "loginname = 'xiaojuan'\n",
    "loginPass = 'Has0ffers'\n",
    "user_info = []\n",
    "\n",
    "def read_csv_file(fileName):\n",
    "    with open(fileName, 'rU') as file:\n",
    "        read_file = csv.reader(file)\n",
    "        header = read_file.next()\n",
    "        for line in read_file:\n",
    "            user_info.append(line)\n",
    "    file.close()\n",
    "    return user_info\n",
    "\n",
    "def update_passwd(userInfo):   \n",
    "    for site, user, passwd in userInfo:\n",
    "        t = TableauRestApi(server, loginname, loginPass, site)\n",
    "        t.signin()\n",
    "        t.update_user(user, password = passwd)\n",
    "        print '%s Password Updated from %s'%(user, site)\n",
    "    t.signout()\n",
    "    print 'Mission Completed!!!'"
   ]
  },
  {
   "cell_type": "code",
   "execution_count": 121,
   "metadata": {
    "collapsed": false,
    "scrolled": false
   },
   "outputs": [
    {
     "name": "stdout",
     "output_type": "stream",
     "text": [
      "test1 Password Updated from TuneBIDemo\n",
      "test2 Password Updated from Uber\n",
      "test3 Password Updated from BetaTest\n",
      "test4 Password Updated from BetaTest2\n",
      "Mission Completed!!!\n"
     ]
    }
   ],
   "source": [
    "fileName = 'ChangePassword.csv'\n",
    "userInfo = read_csv_file(fileName)\n",
    "update_passwd(userInfo)"
   ]
  },
  {
   "cell_type": "markdown",
   "metadata": {},
   "source": [
    "## *Get User Info and Generate CSV File"
   ]
  },
  {
   "cell_type": "code",
   "execution_count": 129,
   "metadata": {
    "collapsed": false
   },
   "outputs": [],
   "source": [
    "from tableau_rest_api.tableau_rest_api import *\n",
    "import pandas as pd\n",
    "import csv\n",
    "\n",
    "server = 'https://bi.tune.com'\n",
    "loginName = 'xiaojuan'\n",
    "loginPasswd = 'Has0ffers'\n",
    "\n",
    "def read_csv_file(fileName):\n",
    "    site_list = []\n",
    "    with open(fileName, 'rU') as file:\n",
    "        read_file = csv.reader(file)\n",
    "        #header = read_file.next()\n",
    "        for line in read_file:\n",
    "            site_list.append(line)\n",
    "    file.close()\n",
    "    site_list = [i for site in site_list for i in site]\n",
    "    return site_list\n",
    "\n",
    "def user_info(site_list):\n",
    "    username = []\n",
    "    siterole = []\n",
    "    lastLogin = []\n",
    "    newSite = []\n",
    "    valid_site_role = ['Guest', 'ServerAdministrator']\n",
    "    for site in site_list:\n",
    "        t = TableauRestApi(server, loginName, loginPasswd, site)\n",
    "        t.signin()\n",
    "        #print '%s Signin Succeed'%site\n",
    "        for user in t.query_users():\n",
    "            if user.get('siteRole') not in valid_site_role:\n",
    "                username.append(user.get('name'))\n",
    "                lastLogin.append(user.get('lastLogin'))\n",
    "                siterole.append(user.get('siteRole'))\n",
    "                newSite.append(site)\n",
    "        print 'Get the User info from %s'%site\n",
    "    #print username, siterole, lastLogin\n",
    "    df_user = pd.DataFrame({'site':newSite, 'username':username, 'siteRole':siterole, 'lastLogin':lastLogin})\n",
    "    df_user.to_csv('user.csv', sep = ',')\n",
    "    t.signout()\n",
    "    print 'CSV file generated'"
   ]
  },
  {
   "cell_type": "code",
   "execution_count": 130,
   "metadata": {
    "collapsed": false,
    "scrolled": true
   },
   "outputs": [
    {
     "name": "stdout",
     "output_type": "stream",
     "text": [
      "Get the User info from TuneBIDemo\n",
      "Get the User info from BetaTest\n",
      "Get the User info from BetaTest2\n",
      "Get the User info from Uber\n",
      "Get the User info from 433\n",
      "CSV file generated\n"
     ]
    }
   ],
   "source": [
    "site = read_csv_file('siteList.csv')\n",
    "user_info(site)"
   ]
  },
  {
   "cell_type": "markdown",
   "metadata": {},
   "source": [
    "## *Remove Users"
   ]
  },
  {
   "cell_type": "code",
   "execution_count": 132,
   "metadata": {
    "collapsed": true
   },
   "outputs": [],
   "source": [
    "from tableau_rest_api.tableau_rest_api import *\n",
    "import csv\n",
    "\n",
    "server = 'https://bi.tune.com'\n",
    "loginName = 'xiaojuan'\n",
    "loginPasswd = 'Has0ffers'\n",
    "user_info = []\n",
    "\n",
    "def read_csv_file(fileName):\n",
    "    with open(fileName, 'rU') as file:\n",
    "        read_file = csv.reader(file)\n",
    "        header = read_file.next()\n",
    "        for line in read_file:\n",
    "            user_info.append(line)\n",
    "    file.close()\n",
    "    return user_info\n",
    "\n",
    "def remove_users(userInfo):\n",
    "    for site, username in userInfo:\n",
    "        t = TableauRestApi(server, loginname, loginPass, site)\n",
    "        t.signin()\n",
    "        users_in_server = t.query_users()\n",
    "        for user in users_in_server:\n",
    "            if user.get('name') != username:\n",
    "                continue\n",
    "            else:\n",
    "                userId = user.get('id')\n",
    "                t.remove_users_from_site_by_luid(userId)\n",
    "                print '%s Removed from %s'%(username, site)\n",
    "    t.signout()\n",
    "    print 'Removed all users'\n",
    "    print 'Mission Completed!!!'"
   ]
  },
  {
   "cell_type": "code",
   "execution_count": 133,
   "metadata": {
    "collapsed": false
   },
   "outputs": [
    {
     "name": "stdout",
     "output_type": "stream",
     "text": [
      "test1 Removed from TuneBIDemo\n",
      "test2 Removed from Uber\n",
      "test3 Removed from BetaTest\n",
      "test4 Removed from BetaTest2\n",
      "Removed all users\n",
      "Mission Completed!!!\n"
     ]
    }
   ],
   "source": [
    "userInfo = read_csv_file('remove_user.csv')\n",
    "remove_users(userInfo)"
   ]
  }
 ],
 "metadata": {
  "kernelspec": {
   "display_name": "Python 2",
   "language": "python",
   "name": "python2"
  },
  "language_info": {
   "codemirror_mode": {
    "name": "ipython",
    "version": 2
   },
   "file_extension": ".py",
   "mimetype": "text/x-python",
   "name": "python",
   "nbconvert_exporter": "python",
   "pygments_lexer": "ipython2",
   "version": "2.7.10"
  }
 },
 "nbformat": 4,
 "nbformat_minor": 0
}
